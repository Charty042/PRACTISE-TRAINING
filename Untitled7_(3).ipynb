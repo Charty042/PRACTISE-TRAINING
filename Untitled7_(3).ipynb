{
  "cells": [
    {
      "cell_type": "markdown",
      "metadata": {
        "id": "view-in-github",
        "colab_type": "text"
      },
      "source": [
        "<a href=\"https://colab.research.google.com/github/Charty042/PRACTISE-TRAINING/blob/main/Untitled7_(3).ipynb\" target=\"_parent\"><img src=\"https://colab.research.google.com/assets/colab-badge.svg\" alt=\"Open In Colab\"/></a>"
      ]
    },
    {
      "cell_type": "code",
      "execution_count": null,
      "id": "bb133879-dfdb-494a-9688-07840b27715b",
      "metadata": {
        "id": "bb133879-dfdb-494a-9688-07840b27715b"
      },
      "outputs": [],
      "source": [
        "import pandas as pd"
      ]
    },
    {
      "cell_type": "code",
      "execution_count": null,
      "id": "d1c6eb5a-e82f-456f-8eda-78c297d041ae",
      "metadata": {
        "id": "d1c6eb5a-e82f-456f-8eda-78c297d041ae"
      },
      "outputs": [],
      "source": [
        "data = pd.read_csv(r'C:\\3MTT TRAINING\\Bike_Sales_CSV_Lab.csv') #loads data from where it is located in my laptop into pandas"
      ]
    },
    {
      "cell_type": "code",
      "execution_count": null,
      "id": "f45d11ca-c336-4890-99ce-4edbaa5f0f9d",
      "metadata": {
        "id": "f45d11ca-c336-4890-99ce-4edbaa5f0f9d",
        "outputId": "5bd746e9-79d4-4cd6-93d6-8ede0ff1fab1"
      },
      "outputs": [
        {
          "name": "stdout",
          "output_type": "stream",
          "text": [
            "          Date             Age_Group Product_Category  Order_Quantity  \\\n",
            "0    1/31/2021        Adults (35-64)            Bikes              30   \n",
            "1    2/28/2021  Young Adults (25-34)            Bikes              20   \n",
            "2    3/31/2021           Youth (<25)            Bikes              10   \n",
            "3    4/30/2021           Youth (<25)            Bikes              10   \n",
            "4    5/31/2021        Adults (35-64)            Bikes              11   \n",
            "5    6/30/2021        Adults (35-64)            Bikes              14   \n",
            "6    7/31/2021        Adults (35-64)            Bikes              30   \n",
            "7    8/31/2021  Young Adults (25-34)            Bikes              14   \n",
            "8    9/30/2021        Adults (35-64)            Bikes              12   \n",
            "9   10/31/2021  Young Adults (25-34)            Bikes              40   \n",
            "10  11/30/2021        Adults (35-64)            Bikes              47   \n",
            "11  12/31/2021        Adults (35-64)            Bikes              32   \n",
            "12   1/31/2022        Adults (35-64)            Bikes              28   \n",
            "\n",
            "    Unit_Price       Revenue  \n",
            "0   $1,120.00    $33,600.00   \n",
            "1   $3,578.00    $71,560.00   \n",
            "2   $2,443.00    $24,430.00   \n",
            "3   $2,295.00    $22,950.00   \n",
            "4     $540.00     $5,940.00   \n",
            "5   $1,120.00    $15,680.00   \n",
            "6   $2,443.00    $73,290.00   \n",
            "7   $1,120.00    $15,680.00   \n",
            "8   $1,120.00    $13,440.00   \n",
            "9   $2,295.00    $91,800.00   \n",
            "10  $3,578.00   $168,166.00   \n",
            "11    $540.00    $17,280.00   \n",
            "12    $540.00    $15,120.00   \n"
          ]
        }
      ],
      "source": [
        "print (data) #to display the dataset I uploaded into pandas"
      ]
    },
    {
      "cell_type": "code",
      "execution_count": null,
      "id": "956ae49e-606c-4f59-899d-070e302f38de",
      "metadata": {
        "id": "956ae49e-606c-4f59-899d-070e302f38de",
        "outputId": "36bc8525-fe72-4918-f9fd-aec090f326c1"
      },
      "outputs": [
        {
          "data": {
            "text/plain": [
              "Date                0\n",
              "Age_Group           0\n",
              "Product_Category    0\n",
              "Order_Quantity      0\n",
              "Unit_Price          0\n",
              "Revenue             0\n",
              "dtype: int64"
            ]
          },
          "execution_count": 17,
          "metadata": {},
          "output_type": "execute_result"
        }
      ],
      "source": [
        "data.isnull().sum()  # Shows count of missing values in each column"
      ]
    },
    {
      "cell_type": "code",
      "execution_count": null,
      "id": "0448083a-93fd-4c64-a39e-4b71451ed291",
      "metadata": {
        "id": "0448083a-93fd-4c64-a39e-4b71451ed291"
      },
      "outputs": [],
      "source": [
        "data['Revenue'] = data['Revenue'].replace({'$': '', ',': ''}) #to Clean the 'Revenue' column by removing dollar signs '$' and commas ','"
      ]
    },
    {
      "cell_type": "code",
      "execution_count": null,
      "id": "2d61fb20-00d4-4e1a-bdee-528c13d9dad0",
      "metadata": {
        "id": "2d61fb20-00d4-4e1a-bdee-528c13d9dad0",
        "outputId": "5da46d8b-4c35-4c87-9de7-5e902c5c4855"
      },
      "outputs": [
        {
          "name": "stdout",
          "output_type": "stream",
          "text": [
            "0      33600.0\n",
            "1      71560.0\n",
            "2      24430.0\n",
            "3      22950.0\n",
            "4       5940.0\n",
            "5      15680.0\n",
            "6      73290.0\n",
            "7      15680.0\n",
            "8      13440.0\n",
            "9      91800.0\n",
            "10    168166.0\n",
            "11     17280.0\n",
            "12     15120.0\n",
            "Name: Revenue, dtype: float64\n"
          ]
        }
      ],
      "source": [
        "print (data['Revenue']) #to display the Revenue column already cleaned"
      ]
    },
    {
      "cell_type": "code",
      "execution_count": null,
      "id": "cc8c1b08-9cda-42b9-a5be-94c5539088c2",
      "metadata": {
        "id": "cc8c1b08-9cda-42b9-a5be-94c5539088c2",
        "outputId": "bdaf72bb-85a2-4962-d41b-10f0cc5712f4"
      },
      "outputs": [
        {
          "name": "stdout",
          "output_type": "stream",
          "text": [
            "Mean Revenue: 43764.307692307695\n",
            "Median Revenue: 22950.0\n",
            "Standard Deviation of Revenue: 46356.906438675374\n"
          ]
        }
      ],
      "source": [
        "mean_revenue = data['Revenue'].mean()\n",
        "median_revenue = data['Revenue'].median()\n",
        "std_revenue = data['Revenue'].std()\n",
        "\n",
        "print(f\"Mean Revenue: {mean_revenue}\") #displays result of the mean for the 'Revenue' column\n",
        "print (f\"Median Revenue: {median_revenue}\") #displays result of the median for the 'Revenue' column\n",
        "print (f\"Standard Deviation of Revenue: {std_revenue}\") #displays result of the standard deviation for the 'Revenue' column"
      ]
    },
    {
      "cell_type": "code",
      "execution_count": null,
      "id": "40e9e489-354f-4af4-a55a-1b15e336fe6a",
      "metadata": {
        "id": "40e9e489-354f-4af4-a55a-1b15e336fe6a"
      },
      "outputs": [],
      "source": [
        "import matplotlib.pyplot as plt #for ploting of charts"
      ]
    },
    {
      "cell_type": "code",
      "execution_count": null,
      "id": "74dd8f40-4c33-4397-91b9-6baacaaf0e0b",
      "metadata": {
        "scrolled": true,
        "id": "74dd8f40-4c33-4397-91b9-6baacaaf0e0b",
        "outputId": "dd7e053b-e2c0-4856-9161-0bf948e204db"
      },
      "outputs": [
        {
          "data": {
            "image/png": "[encoded data removed]",
            "text/plain": [
              "<Figure size 640x480 with 1 Axes>"
            ]
          },
          "metadata": {},
          "output_type": "display_data"
        }
      ],
      "source": [
        "data['Order_Quantity'].plot(kind='bar') #This generates a bar chart of the 'Order_Quantity' column.\n",
        "plt.title('Order Quantity Bar Chart') #give title to the chart\n",
        "plt.xlabel('Index')\n",
        "plt.ylabel('Order Quantity')\n",
        "plt.show() #Displays the bar chart"
      ]
    },
    {
      "cell_type": "markdown",
      "id": "ff21ee02-4b95-4656-9cf0-83899b6e2a24",
      "metadata": {
        "id": "ff21ee02-4b95-4656-9cf0-83899b6e2a24"
      },
      "source": [
        "Load Data: This step identifies the dataset from where it is located on my PC, loads the data and displays the dataset.\n",
        "\n",
        "Data Cleaning: Here I check for missing values and discovered the Revenue column had special characters which will disrupt my calculations, so i had to remove them ($ and ,)\n",
        "\n",
        "Basic Analysis: I calculatde basic statistics like mean, median, and standard deviation for the 'Revenue' column\n",
        "\n",
        "Visualization: A bar chart is used to show the Order_Quantity gotten from the Product.\n"
      ]
    },
    {
      "cell_type": "markdown",
      "source": [
        "ASSIGNMENT WEEK 10\n",
        "\n",
        "NAME; NDIBUGOM CHARLOTTE MEYLOH\n",
        "Fellow ID\n",
        "FE/23/84362213\n",
        "Cohort 2\n",
        "\n"
      ],
      "metadata": {
        "id": "K-F38helIWAh"
      },
      "id": "K-F38helIWAh"
    },
    {
      "cell_type": "markdown",
      "source": [
        "ASSIGNMENT WEEK 10\n",
        "\n",
        "NAME; NDIBUGOM CHARLOTTE MEYLOH\n",
        "\n",
        "Fellow ID:\n",
        "FE/23/84362213\n",
        "\n",
        "Cohort 2\n",
        "\n",
        "Data Analysis and Visualisation\n"
      ],
      "metadata": {
        "id": "Uym9him9IkxJ"
      },
      "id": "Uym9him9IkxJ"
    }
  ],
  "metadata": {
    "kernelspec": {
      "display_name": "Python 3 (ipykernel)",
      "language": "python",
      "name": "python3"
    },
    "language_info": {
      "codemirror_mode": {
        "name": "ipython",
        "version": 3
      },
      "file_extension": ".py",
      "mimetype": "text/x-python",
      "name": "python",
      "nbconvert_exporter": "python",
      "pygments_lexer": "ipython3",
      "version": "3.12.4"
    },
    "colab": {
      "provenance": [],
      "include_colab_link": true
    }
  },
  "nbformat": 4,
  "nbformat_minor": 5
}