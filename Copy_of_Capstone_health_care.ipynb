{
  "cells": [
    {
      "cell_type": "markdown",
      "metadata": {
        "id": "view-in-github",
        "colab_type": "text"
      },
      "source": [
        "<a href=\"https://colab.research.google.com/github/Charty042/PRACTISE-TRAINING/blob/main/Copy_of_Capstone_health_care.ipynb\" target=\"_parent\"><img src=\"https://colab.research.google.com/assets/colab-badge.svg\" alt=\"Open In Colab\"/></a>"
      ]
    },
    {
      "cell_type": "code",
      "execution_count": null,
      "id": "eb26f3e9-e4d1-48dd-b313-693eeb433d39",
      "metadata": {
        "id": "eb26f3e9-e4d1-48dd-b313-693eeb433d39"
      },
      "outputs": [],
      "source": [
        "import pandas as pd"
      ]
    },
    {
      "cell_type": "code",
      "execution_count": null,
      "id": "0712979e-72c3-41b9-b689-ea6c27674009",
      "metadata": {
        "id": "0712979e-72c3-41b9-b689-ea6c27674009"
      },
      "outputs": [],
      "source": [
        "health_care = pd.read_csv(r'C:\\3MTT TRAINING\\CAPSTONE PROJECT\\healthcare_dataset cleaned data.csv') #importing file into pandas"
      ]
    },
    {
      "cell_type": "code",
      "execution_count": null,
      "id": "2462d9d7-1128-4cd5-a16d-369907b14d66",
      "metadata": {
        "id": "2462d9d7-1128-4cd5-a16d-369907b14d66",
        "outputId": "2ae57064-a350-405a-a421-b81a46ae751b"
      },
      "outputs": [
        {
          "data": {
            "text/html": [
              "<div>\n",
              "<style scoped>\n",
              "    .dataframe tbody tr th:only-of-type {\n",
              "        vertical-align: middle;\n",
              "    }\n",
              "\n",
              "    .dataframe tbody tr th {\n",
              "        vertical-align: top;\n",
              "    }\n",
              "\n",
              "    .dataframe thead th {\n",
              "        text-align: right;\n",
              "    }\n",
              "</style>\n",
              "<table border=\"1\" class=\"dataframe\">\n",
              "  <thead>\n",
              "    <tr style=\"text-align: right;\">\n",
              "      <th></th>\n",
              "      <th>Name</th>\n",
              "      <th>Age</th>\n",
              "      <th>Gender</th>\n",
              "      <th>Blood Type</th>\n",
              "      <th>Medical Condition</th>\n",
              "      <th>Date of Admission</th>\n",
              "      <th>Doctor</th>\n",
              "      <th>Hospital</th>\n",
              "      <th>Insurance Provider</th>\n",
              "      <th>Billing Amount</th>\n",
              "      <th>Admission Type</th>\n",
              "      <th>Discharge Date</th>\n",
              "      <th>Medication</th>\n",
              "      <th>Test Results</th>\n",
              "    </tr>\n",
              "  </thead>\n",
              "  <tbody>\n",
              "    <tr>\n",
              "      <th>0</th>\n",
              "      <td>Aaron Adams</td>\n",
              "      <td>30</td>\n",
              "      <td>Male</td>\n",
              "      <td>B-</td>\n",
              "      <td>Cancer</td>\n",
              "      <td>31/01/2024</td>\n",
              "      <td>Matthew Smith</td>\n",
              "      <td>Sons and Miller</td>\n",
              "      <td>Blue Cross</td>\n",
              "      <td>18856.28131</td>\n",
              "      <td>Urgent</td>\n",
              "      <td>02/02/2024</td>\n",
              "      <td>Paracetamol</td>\n",
              "      <td>Normal</td>\n",
              "    </tr>\n",
              "    <tr>\n",
              "      <th>1</th>\n",
              "      <td>Aaron Aguirre</td>\n",
              "      <td>62</td>\n",
              "      <td>Male</td>\n",
              "      <td>A+</td>\n",
              "      <td>Obesity</td>\n",
              "      <td>20/08/2019</td>\n",
              "      <td>Samantha Davies</td>\n",
              "      <td>Kim Inc</td>\n",
              "      <td>Medicare</td>\n",
              "      <td>33643.32729</td>\n",
              "      <td>Emergency</td>\n",
              "      <td>26/08/2019</td>\n",
              "      <td>Ibuprofen</td>\n",
              "      <td>Inconclusive</td>\n",
              "    </tr>\n",
              "    <tr>\n",
              "      <th>2</th>\n",
              "      <td>Aaron Anderson</td>\n",
              "      <td>76</td>\n",
              "      <td>Female</td>\n",
              "      <td>A-</td>\n",
              "      <td>Obesity</td>\n",
              "      <td>22/09/2022</td>\n",
              "      <td>Tiffany Mitchell</td>\n",
              "      <td>Cook PLC</td>\n",
              "      <td>Aetna</td>\n",
              "      <td>27955.09608</td>\n",
              "      <td>Emergency</td>\n",
              "      <td>07/10/2022</td>\n",
              "      <td>Aspirin</td>\n",
              "      <td>Normal</td>\n",
              "    </tr>\n",
              "    <tr>\n",
              "      <th>3</th>\n",
              "      <td>Aaron Anderson Md</td>\n",
              "      <td>28</td>\n",
              "      <td>Female</td>\n",
              "      <td>O+</td>\n",
              "      <td>Diabetes</td>\n",
              "      <td>18/11/2020</td>\n",
              "      <td>Kevin Wells</td>\n",
              "      <td>Hernandez Rogers and Vang,</td>\n",
              "      <td>Medicare</td>\n",
              "      <td>37909.78241</td>\n",
              "      <td>Elective</td>\n",
              "      <td>18/12/2020</td>\n",
              "      <td>Ibuprofen</td>\n",
              "      <td>Abnormal</td>\n",
              "    </tr>\n",
              "    <tr>\n",
              "      <th>4</th>\n",
              "      <td>Aaron Archer</td>\n",
              "      <td>43</td>\n",
              "      <td>Female</td>\n",
              "      <td>AB+</td>\n",
              "      <td>Cancer</td>\n",
              "      <td>19/09/2022</td>\n",
              "      <td>Kathleen Hanna</td>\n",
              "      <td>White-White</td>\n",
              "      <td>Aetna</td>\n",
              "      <td>14238.31781</td>\n",
              "      <td>Urgent</td>\n",
              "      <td>09/10/2022</td>\n",
              "      <td>Penicillin</td>\n",
              "      <td>Abnormal</td>\n",
              "    </tr>\n",
              "  </tbody>\n",
              "</table>\n",
              "</div>"
            ],
            "text/plain": [
              "                Name  Age  Gender Blood Type Medical Condition  \\\n",
              "0        Aaron Adams   30    Male         B-            Cancer   \n",
              "1      Aaron Aguirre   62    Male         A+           Obesity   \n",
              "2     Aaron Anderson   76  Female         A-           Obesity   \n",
              "3  Aaron Anderson Md   28  Female         O+          Diabetes   \n",
              "4       Aaron Archer   43  Female        AB+            Cancer   \n",
              "\n",
              "  Date of Admission            Doctor                    Hospital  \\\n",
              "0        31/01/2024     Matthew Smith             Sons and Miller   \n",
              "1        20/08/2019   Samantha Davies                     Kim Inc   \n",
              "2        22/09/2022  Tiffany Mitchell                    Cook PLC   \n",
              "3        18/11/2020       Kevin Wells  Hernandez Rogers and Vang,   \n",
              "4        19/09/2022    Kathleen Hanna                 White-White   \n",
              "\n",
              "  Insurance Provider  Billing Amount Admission Type Discharge Date  \\\n",
              "0         Blue Cross     18856.28131         Urgent     02/02/2024   \n",
              "1           Medicare     33643.32729      Emergency     26/08/2019   \n",
              "2              Aetna     27955.09608      Emergency     07/10/2022   \n",
              "3           Medicare     37909.78241       Elective     18/12/2020   \n",
              "4              Aetna     14238.31781         Urgent     09/10/2022   \n",
              "\n",
              "    Medication  Test Results  \n",
              "0  Paracetamol        Normal  \n",
              "1    Ibuprofen  Inconclusive  \n",
              "2      Aspirin        Normal  \n",
              "3    Ibuprofen      Abnormal  \n",
              "4   Penicillin      Abnormal  "
            ]
          },
          "execution_count": 15,
          "metadata": {},
          "output_type": "execute_result"
        }
      ],
      "source": [
        "#To display the first 5 rows of my data\n",
        "#I just wanted to confirm that the cleaning I did on the column 'Name' using excel actually worked\n",
        "\n",
        "health_care.head ()"
      ]
    },
    {
      "cell_type": "code",
      "execution_count": null,
      "id": "a2dcd935-28f0-4888-930e-22acfb9f0713",
      "metadata": {
        "id": "a2dcd935-28f0-4888-930e-22acfb9f0713",
        "outputId": "771cde9c-5a0d-447b-f3dd-6525dba0560c"
      },
      "outputs": [
        {
          "data": {
            "text/plain": [
              "Name                  0\n",
              "Age                   0\n",
              "Gender                0\n",
              "Blood Type            0\n",
              "Medical Condition     0\n",
              "Date of Admission     0\n",
              "Doctor                0\n",
              "Hospital              0\n",
              "Insurance Provider    0\n",
              "Billing Amount        0\n",
              "Admission Type        0\n",
              "Discharge Date        0\n",
              "Medication            0\n",
              "Test Results          0\n",
              "dtype: int64"
            ]
          },
          "execution_count": 16,
          "metadata": {},
          "output_type": "execute_result"
        }
      ],
      "source": [
        "health_care.isnull().sum() #to display any blank cells"
      ]
    },
    {
      "cell_type": "code",
      "execution_count": null,
      "id": "b7ab322f-23e1-4da6-9d4d-a0e0092f0396",
      "metadata": {
        "id": "b7ab322f-23e1-4da6-9d4d-a0e0092f0396"
      },
      "outputs": [],
      "source": [
        "import matplotlib.pyplot as plt"
      ]
    },
    {
      "cell_type": "code",
      "execution_count": null,
      "id": "536d85b5-899a-4af6-acee-2d621ea1f993",
      "metadata": {
        "id": "536d85b5-899a-4af6-acee-2d621ea1f993",
        "outputId": "52b22a3e-c6fa-428e-97da-b8ef99765752"
      },
      "outputs": [
        {
          "data": {
            "image/png": "[encoded data removed]",
            "text/plain": [
              "<Figure size 640x480 with 1 Axes>"
            ]
          },
          "metadata": {},
          "output_type": "display_data"
        }
      ],
      "source": [
        "#checking for outliers from the Age column\n",
        "#Outliers here could indicate data entry mistakes (e.g., age values like 150) or perhaps patients whose ages are far outside the norm.\n",
        "\n",
        "plt.boxplot(health_care['Age'])\n",
        "plt.title('Outliers in Age')\n",
        "plt.ylabel('Values')\n",
        "plt.show() #from the results, it shows no significant outliers available"
      ]
    },
    {
      "cell_type": "code",
      "execution_count": null,
      "id": "fca8a46d-8965-410f-b6d1-0504f2a67439",
      "metadata": {
        "id": "fca8a46d-8965-410f-b6d1-0504f2a67439",
        "outputId": "41ba923e-9914-4f7e-c832-9005a8cde3c9"
      },
      "outputs": [
        {
          "data": {
            "image/png": "[encoded data removed]",
            "text/plain": [
              "<Figure size 640x480 with 1 Axes>"
            ]
          },
          "metadata": {},
          "output_type": "display_data"
        }
      ],
      "source": [
        "#checking for outliers in the column 'Billing Amount'\n",
        "#As it might reveal unusually high or low charges that could skew average billing analysis or indicate exceptional cases.\n",
        "\n",
        "plt.boxplot(health_care['Billing Amount'])\n",
        "plt.title('Outliers in Billing Amount')\n",
        "plt.ylabel('Values')\n",
        "plt.show() #from the results, it shows no significant outliers available"
      ]
    },
    {
      "cell_type": "code",
      "execution_count": null,
      "id": "12654660-f3d7-432e-9a76-571d01207fc2",
      "metadata": {
        "id": "12654660-f3d7-432e-9a76-571d01207fc2",
        "outputId": "405c7265-70f8-44a4-86f9-4064b8fd8099"
      },
      "outputs": [
        {
          "data": {
            "text/html": [
              "<div>\n",
              "<style scoped>\n",
              "    .dataframe tbody tr th:only-of-type {\n",
              "        vertical-align: middle;\n",
              "    }\n",
              "\n",
              "    .dataframe tbody tr th {\n",
              "        vertical-align: top;\n",
              "    }\n",
              "\n",
              "    .dataframe thead th {\n",
              "        text-align: right;\n",
              "    }\n",
              "</style>\n",
              "<table border=\"1\" class=\"dataframe\">\n",
              "  <thead>\n",
              "    <tr style=\"text-align: right;\">\n",
              "      <th></th>\n",
              "      <th>Age</th>\n",
              "      <th>Billing Amount</th>\n",
              "    </tr>\n",
              "  </thead>\n",
              "  <tbody>\n",
              "    <tr>\n",
              "      <th>count</th>\n",
              "      <td>55500.000000</td>\n",
              "      <td>55500.000000</td>\n",
              "    </tr>\n",
              "    <tr>\n",
              "      <th>mean</th>\n",
              "      <td>51.539459</td>\n",
              "      <td>25539.316097</td>\n",
              "    </tr>\n",
              "    <tr>\n",
              "      <th>std</th>\n",
              "      <td>19.602454</td>\n",
              "      <td>14211.454431</td>\n",
              "    </tr>\n",
              "    <tr>\n",
              "      <th>min</th>\n",
              "      <td>13.000000</td>\n",
              "      <td>-2008.492140</td>\n",
              "    </tr>\n",
              "    <tr>\n",
              "      <th>25%</th>\n",
              "      <td>35.000000</td>\n",
              "      <td>13241.224655</td>\n",
              "    </tr>\n",
              "    <tr>\n",
              "      <th>50%</th>\n",
              "      <td>52.000000</td>\n",
              "      <td>25538.069380</td>\n",
              "    </tr>\n",
              "    <tr>\n",
              "      <th>75%</th>\n",
              "      <td>68.000000</td>\n",
              "      <td>37820.508432</td>\n",
              "    </tr>\n",
              "    <tr>\n",
              "      <th>max</th>\n",
              "      <td>89.000000</td>\n",
              "      <td>52764.276740</td>\n",
              "    </tr>\n",
              "  </tbody>\n",
              "</table>\n",
              "</div>"
            ],
            "text/plain": [
              "                Age  Billing Amount\n",
              "count  55500.000000    55500.000000\n",
              "mean      51.539459    25539.316097\n",
              "std       19.602454    14211.454431\n",
              "min       13.000000    -2008.492140\n",
              "25%       35.000000    13241.224655\n",
              "50%       52.000000    25538.069380\n",
              "75%       68.000000    37820.508432\n",
              "max       89.000000    52764.276740"
            ]
          },
          "execution_count": 20,
          "metadata": {},
          "output_type": "execute_result"
        }
      ],
      "source": [
        "#descriptive statistics to get an overview of numeric columns\n",
        "\n",
        "health_care.describe()"
      ]
    },
    {
      "cell_type": "code",
      "execution_count": null,
      "id": "80fa9bc5-27b4-4a92-af51-37ce4c9dd86f",
      "metadata": {
        "id": "80fa9bc5-27b4-4a92-af51-37ce4c9dd86f",
        "outputId": "69b14100-dc0f-498a-96b9-c5f6b2f6c095"
      },
      "outputs": [
        {
          "data": {
            "text/plain": [
              "Medical Condition\n",
              "Arthritis       9308\n",
              "Diabetes        9304\n",
              "Hypertension    9245\n",
              "Obesity         9231\n",
              "Cancer          9227\n",
              "Asthma          9185\n",
              "Name: count, dtype: int64"
            ]
          },
          "execution_count": 25,
          "metadata": {},
          "output_type": "execute_result"
        }
      ],
      "source": [
        "# Most common diagnoses across all patients\n",
        "#This will give you a count of each diagnosis, allowing you to see the most frequent conditions in the dataset.\n",
        "\n",
        "common_diagnoses = health_care['Medical Condition'].value_counts()\n",
        "common_diagnoses"
      ]
    },
    {
      "cell_type": "code",
      "execution_count": null,
      "id": "fbb79f37-a0c1-4efb-8049-097b16bc948f",
      "metadata": {
        "id": "fbb79f37-a0c1-4efb-8049-097b16bc948f"
      },
      "outputs": [],
      "source": [
        "#What are the Test Result of the various Medication?\n",
        "#converting our strings to numeric values\n",
        "\n",
        "result_mapping = { 'Normal': 1, 'Abnormal': 0, 'Inconclusive': -1 }\n",
        "health_care['Test Results'] = health_care['Test Results'].map(result_mapping)"
      ]
    },
    {
      "cell_type": "code",
      "execution_count": null,
      "id": "f5607a2e-e0f6-4e41-8869-2479760e94da",
      "metadata": {
        "id": "f5607a2e-e0f6-4e41-8869-2479760e94da",
        "outputId": "c0f78ff4-b723-4912-c578-24cb8f2d0a3b"
      },
      "outputs": [
        {
          "name": "stdout",
          "output_type": "stream",
          "text": [
            "int64\n",
            "0\n"
          ]
        }
      ],
      "source": [
        "print(health_care['Test Results'].dtype) # Should be numeric type now (e.g., int64 or float64)\n",
        "print(health_care['Test Results'].isnull().sum()) # Check for any NaN values introduced during mapping"
      ]
    },
    {
      "cell_type": "code",
      "execution_count": null,
      "id": "220b55f0-44de-4339-ae16-d689fc17f8b9",
      "metadata": {
        "id": "220b55f0-44de-4339-ae16-d689fc17f8b9",
        "outputId": "f6de73a0-4189-426a-c288-1ed90ee14cdf"
      },
      "outputs": [
        {
          "name": "stdout",
          "output_type": "stream",
          "text": [
            "Medication\n",
            "Aspirin        1.027582\n",
            "Ibuprofen      0.808843\n",
            "Lipitor       -0.529623\n",
            "Paracetamol   -0.252913\n",
            "Penicillin     0.397542\n",
            "Name: Test Results, dtype: float64\n"
          ]
        }
      ],
      "source": [
        "treatment_success = health_care.groupby('Medication')['Test Results'].mean() * 100\n",
        "print(treatment_success)"
      ]
    },
    {
      "cell_type": "code",
      "execution_count": null,
      "id": "8e85d392-f144-4129-8897-a3543078d12e",
      "metadata": {
        "id": "8e85d392-f144-4129-8897-a3543078d12e",
        "outputId": "d7e0dd56-2cea-4145-f4c3-87f54fe853ae"
      },
      "outputs": [
        {
          "name": "stdout",
          "output_type": "stream",
          "text": [
            "Average Age per Medical Condition:\n",
            " Medical Condition\n",
            "Arthritis       51.565320\n",
            "Asthma          51.575830\n",
            "Cancer          51.558795\n",
            "Diabetes        51.554170\n",
            "Hypertension    51.741915\n",
            "Obesity         51.240277\n",
            "Name: Age, dtype: float64\n",
            "\n",
            "Gender Distribution per Medical Condition:\n",
            " Gender             Female  Male\n",
            "Medical Condition              \n",
            "Arthritis            4686  4622\n",
            "Asthma               4553  4632\n",
            "Cancer               4602  4625\n",
            "Diabetes             4651  4653\n",
            "Hypertension         4612  4633\n",
            "Obesity              4622  4609\n"
          ]
        }
      ],
      "source": [
        "#What are the demographics (Age, Gender) of patients with specific Medical Conditions?\n",
        "# Grouping by Medical condition and calculating the average age\n",
        "avg_age = health_care.groupby('Medical Condition')['Age'].mean()\n",
        "\n",
        "# Grouping by health condition and counting gender occurrences\n",
        "gender_distribution = health_care.groupby('Medical Condition')['Gender'].value_counts().unstack().fillna(0)\n",
        "\n",
        "print(\"Average Age per Medical Condition:\\n\", avg_age)\n",
        "print(\"\\nGender Distribution per Medical Condition:\\n\", gender_distribution)"
      ]
    },
    {
      "cell_type": "code",
      "execution_count": null,
      "id": "3dcb9d70-13a0-47a6-9753-10e3c7649c6a",
      "metadata": {
        "id": "3dcb9d70-13a0-47a6-9753-10e3c7649c6a"
      },
      "outputs": [],
      "source": []
    }
  ],
  "metadata": {
    "kernelspec": {
      "display_name": "Python 3 (ipykernel)",
      "language": "python",
      "name": "python3"
    },
    "language_info": {
      "codemirror_mode": {
        "name": "ipython",
        "version": 3
      },
      "file_extension": ".py",
      "mimetype": "text/x-python",
      "name": "python",
      "nbconvert_exporter": "python",
      "pygments_lexer": "ipython3",
      "version": "3.12.4"
    },
    "colab": {
      "provenance": [],
      "include_colab_link": true
    }
  },
  "nbformat": 4,
  "nbformat_minor": 5
}