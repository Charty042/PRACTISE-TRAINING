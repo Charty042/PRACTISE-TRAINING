{
  "cells": [
    {
      "cell_type": "markdown",
      "metadata": {
        "id": "view-in-github",
        "colab_type": "text"
      },
      "source": [
        "<a href=\"https://colab.research.google.com/github/Charty042/PRACTISE-TRAINING/blob/main/maternal_child_health.ipynb\" target=\"_parent\"><img src=\"https://colab.research.google.com/assets/colab-badge.svg\" alt=\"Open In Colab\"/></a>"
      ]
    },
    {
      "cell_type": "code",
      "execution_count": null,
      "id": "53bec873-d804-4ccd-badb-5c414fa73dc4",
      "metadata": {
        "id": "53bec873-d804-4ccd-badb-5c414fa73dc4"
      },
      "outputs": [],
      "source": [
        "import pandas as pd"
      ]
    },
    {
      "cell_type": "code",
      "execution_count": null,
      "id": "43ef8f90-589d-4d8d-841e-1dec909b9ae3",
      "metadata": {
        "id": "43ef8f90-589d-4d8d-841e-1dec909b9ae3"
      },
      "outputs": [],
      "source": [
        "import numpy as np"
      ]
    },
    {
      "cell_type": "code",
      "execution_count": null,
      "id": "8507f13c-5827-4aa9-bd0d-417856550c27",
      "metadata": {
        "id": "8507f13c-5827-4aa9-bd0d-417856550c27"
      },
      "outputs": [],
      "source": [
        "np.random.seed(42)"
      ]
    },
    {
      "cell_type": "code",
      "execution_count": null,
      "id": "43cf5f28-32c8-442f-a78f-2b5baf10e061",
      "metadata": {
        "id": "43cf5f28-32c8-442f-a78f-2b5baf10e061"
      },
      "outputs": [],
      "source": [
        "n = 500"
      ]
    },
    {
      "cell_type": "code",
      "execution_count": null,
      "id": "751f583c-a200-48cb-8827-7fe8e9d6de20",
      "metadata": {
        "id": "751f583c-a200-48cb-8827-7fe8e9d6de20"
      },
      "outputs": [],
      "source": [
        "data = {\n",
        "    \"Region\": np.random.choice(['North', 'South', 'East', 'West', 'Central'], n),\n",
        "    \"Healthcare_Facility_Access\": np.random.choice([1, 0], n, p=[0.7, 0.3]),\n",
        "    \"Socioeconomic_Level\": np.random.choice(['Low', 'Medium', 'High'], n, p=[0.5, 0.3, 0.2]),\n",
        "    \"Prenatal_Visits\": np.random.randint(0, 11, n),\n",
        "    \"Birth_Attendant_Type\": np.random.choice(['Doctor', 'Midwife', 'Traditional Attendant', 'None'], n),\n",
        "    \"Distance_to_Facility_km\": np.round(np.random.uniform(0, 50, n), 2),\n",
        "    \"Maternal_Age\": np.random.randint(18, 46, n),\n",
        "    \"Infant_Mortality\": np.random.choice([1, 0], n, p=[0.05, 0.95]),  # Assuming a 5% infant mortality rate\n",
        "    \"Complications_During_Birth\": np.random.choice([1, 0], n, p=[0.2, 0.8]),  # Assuming 20% birth complications\n",
        "    \"Follow_Up_Visits\": np.random.randint(0, 6, n)\n",
        "}"
      ]
    },
    {
      "cell_type": "code",
      "execution_count": null,
      "id": "097fd50d-a467-4ae8-81e7-eb61e2f36654",
      "metadata": {
        "id": "097fd50d-a467-4ae8-81e7-eb61e2f36654",
        "outputId": "db6e44a9-9470-46aa-b564-1e26851be4ac"
      },
      "outputs": [
        {
          "data": {
            "text/html": [
              "<div>\n",
              "<style scoped>\n",
              "    .dataframe tbody tr th:only-of-type {\n",
              "        vertical-align: middle;\n",
              "    }\n",
              "\n",
              "    .dataframe tbody tr th {\n",
              "        vertical-align: top;\n",
              "    }\n",
              "\n",
              "    .dataframe thead th {\n",
              "        text-align: right;\n",
              "    }\n",
              "</style>\n",
              "<table border=\"1\" class=\"dataframe\">\n",
              "  <thead>\n",
              "    <tr style=\"text-align: right;\">\n",
              "      <th></th>\n",
              "      <th>Region</th>\n",
              "      <th>Healthcare_Facility_Access</th>\n",
              "      <th>Socioeconomic_Level</th>\n",
              "      <th>Prenatal_Visits</th>\n",
              "      <th>Birth_Attendant_Type</th>\n",
              "      <th>Distance_to_Facility_km</th>\n",
              "      <th>Maternal_Age</th>\n",
              "      <th>Infant_Mortality</th>\n",
              "      <th>Complications_During_Birth</th>\n",
              "      <th>Follow_Up_Visits</th>\n",
              "    </tr>\n",
              "  </thead>\n",
              "  <tbody>\n",
              "    <tr>\n",
              "      <th>0</th>\n",
              "      <td>West</td>\n",
              "      <td>1</td>\n",
              "      <td>Low</td>\n",
              "      <td>8</td>\n",
              "      <td>Midwife</td>\n",
              "      <td>15.76</td>\n",
              "      <td>40</td>\n",
              "      <td>0</td>\n",
              "      <td>0</td>\n",
              "      <td>2</td>\n",
              "    </tr>\n",
              "    <tr>\n",
              "      <th>1</th>\n",
              "      <td>Central</td>\n",
              "      <td>0</td>\n",
              "      <td>Medium</td>\n",
              "      <td>10</td>\n",
              "      <td>None</td>\n",
              "      <td>38.59</td>\n",
              "      <td>33</td>\n",
              "      <td>0</td>\n",
              "      <td>0</td>\n",
              "      <td>3</td>\n",
              "    </tr>\n",
              "    <tr>\n",
              "      <th>2</th>\n",
              "      <td>East</td>\n",
              "      <td>1</td>\n",
              "      <td>Low</td>\n",
              "      <td>4</td>\n",
              "      <td>None</td>\n",
              "      <td>4.32</td>\n",
              "      <td>35</td>\n",
              "      <td>1</td>\n",
              "      <td>0</td>\n",
              "      <td>3</td>\n",
              "    </tr>\n",
              "    <tr>\n",
              "      <th>3</th>\n",
              "      <td>Central</td>\n",
              "      <td>0</td>\n",
              "      <td>High</td>\n",
              "      <td>4</td>\n",
              "      <td>None</td>\n",
              "      <td>11.84</td>\n",
              "      <td>39</td>\n",
              "      <td>1</td>\n",
              "      <td>0</td>\n",
              "      <td>3</td>\n",
              "    </tr>\n",
              "    <tr>\n",
              "      <th>4</th>\n",
              "      <td>Central</td>\n",
              "      <td>1</td>\n",
              "      <td>High</td>\n",
              "      <td>4</td>\n",
              "      <td>Midwife</td>\n",
              "      <td>36.62</td>\n",
              "      <td>39</td>\n",
              "      <td>0</td>\n",
              "      <td>0</td>\n",
              "      <td>1</td>\n",
              "    </tr>\n",
              "  </tbody>\n",
              "</table>\n",
              "</div>"
            ],
            "text/plain": [
              "    Region  Healthcare_Facility_Access Socioeconomic_Level  Prenatal_Visits  \\\n",
              "0     West                           1                 Low                8   \n",
              "1  Central                           0              Medium               10   \n",
              "2     East                           1                 Low                4   \n",
              "3  Central                           0                High                4   \n",
              "4  Central                           1                High                4   \n",
              "\n",
              "  Birth_Attendant_Type  Distance_to_Facility_km  Maternal_Age  \\\n",
              "0              Midwife                    15.76            40   \n",
              "1                 None                    38.59            33   \n",
              "2                 None                     4.32            35   \n",
              "3                 None                    11.84            39   \n",
              "4              Midwife                    36.62            39   \n",
              "\n",
              "   Infant_Mortality  Complications_During_Birth  Follow_Up_Visits  \n",
              "0                 0                           0                 2  \n",
              "1                 0                           0                 3  \n",
              "2                 1                           0                 3  \n",
              "3                 1                           0                 3  \n",
              "4                 0                           0                 1  "
            ]
          },
          "execution_count": 20,
          "metadata": {},
          "output_type": "execute_result"
        }
      ],
      "source": [
        "maternal_child_health_df = pd.DataFrame(data)\n",
        "maternal_child_health_df.head()"
      ]
    },
    {
      "cell_type": "code",
      "execution_count": null,
      "id": "6e615e69-0604-40ce-98ab-26d950f4c2f2",
      "metadata": {
        "id": "6e615e69-0604-40ce-98ab-26d950f4c2f2"
      },
      "outputs": [],
      "source": [
        "file_path = r\"C:\\3MTT TRAINING\\OCTOBER KNOWLEDGE SHOWCASE\\Maternal_Child_Health.csv\""
      ]
    },
    {
      "cell_type": "code",
      "execution_count": null,
      "id": "ff18798a-7725-4cc3-87b0-ab4bf55d221a",
      "metadata": {
        "id": "ff18798a-7725-4cc3-87b0-ab4bf55d221a"
      },
      "outputs": [],
      "source": [
        "# Save as CSV\n",
        "maternal_child_health_df.to_csv(file_path, index=False)"
      ]
    },
    {
      "cell_type": "code",
      "execution_count": null,
      "id": "10caca53-6ea1-41ac-9f57-2dabd9afbb03",
      "metadata": {
        "id": "10caca53-6ea1-41ac-9f57-2dabd9afbb03",
        "outputId": "84ea4a1a-3bbe-4ffb-e3e9-0a47452fea10"
      },
      "outputs": [
        {
          "name": "stdout",
          "output_type": "stream",
          "text": [
            "CSV file saved successfully!\n"
          ]
        }
      ],
      "source": [
        "print(\"CSV file saved successfully!\")"
      ]
    },
    {
      "cell_type": "code",
      "execution_count": null,
      "id": "52be2ec6-7b8a-47a3-b441-a0e8f635a5b4",
      "metadata": {
        "id": "52be2ec6-7b8a-47a3-b441-a0e8f635a5b4"
      },
      "outputs": [],
      "source": [
        "# This is a knowledge showcase project whereby I practised generating data using jupyter notebook.\n",
        "# Saving the genrated data to my laptop so as to create visualizations using Power BI\n",
        "# This is just to help me make practicals use of the tools I had been thought."
      ]
    },
    {
      "cell_type": "code",
      "execution_count": null,
      "id": "755ead0b-b9ee-4ebe-a495-2c1a7aa67158",
      "metadata": {
        "id": "755ead0b-b9ee-4ebe-a495-2c1a7aa67158"
      },
      "outputs": [],
      "source": []
    }
  ],
  "metadata": {
    "kernelspec": {
      "display_name": "Python 3 (ipykernel)",
      "language": "python",
      "name": "python3"
    },
    "language_info": {
      "codemirror_mode": {
        "name": "ipython",
        "version": 3
      },
      "file_extension": ".py",
      "mimetype": "text/x-python",
      "name": "python",
      "nbconvert_exporter": "python",
      "pygments_lexer": "ipython3",
      "version": "3.12.4"
    },
    "colab": {
      "provenance": [],
      "include_colab_link": true
    }
  },
  "nbformat": 4,
  "nbformat_minor": 5
}